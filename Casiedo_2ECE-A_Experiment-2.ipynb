{
 "cells": [
  {
   "cell_type": "markdown",
   "id": "a4a96866-63dc-48bd-8c54-1d64fd8ccc6c",
   "metadata": {},
   "source": [
    "# Programming Assignment 2\n",
    "# Casiedo, Jihan Harvey C.\n",
    "# 2ECE-A\n",
    "# Normalization Problem"
   ]
  },
  {
   "cell_type": "code",
   "execution_count": 7,
   "id": "779a2321-bf9c-4548-86ed-18c2b6091281",
   "metadata": {},
   "outputs": [
    {
     "name": "stdout",
     "output_type": "stream",
     "text": [
      "Original array (X):\n",
      " [[0.47173961 0.87388228 0.5048641  0.10224272 0.62413114]\n",
      " [0.47406068 0.62044332 0.88389703 0.2294866  0.82331755]\n",
      " [0.43812507 0.89924874 0.07728921 0.10754016 0.66728962]\n",
      " [0.20300247 0.13477157 0.11911956 0.43440738 0.02953826]\n",
      " [0.96367134 0.88587779 0.24222815 0.04504613 0.76273884]]\n",
      "\n",
      "Normalized array (X_normalized): \n",
      " [[ 0.02244703  1.30810494  0.12834667 -1.15884169  0.5096457 ]\n",
      " [ 0.02986753  0.49785569  1.34012228 -0.75204053  1.14644853]\n",
      " [-0.08501929  1.389202   -1.23861853 -1.14190565  0.6476242 ]\n",
      " [-0.83671082 -1.05484633 -1.10488611 -0.09690482 -1.39127927]\n",
      " [ 1.5951623   1.34645482 -0.71130555 -1.3417003   0.95277721]]\n"
     ]
    }
   ],
   "source": [
    "import numpy as np #import numpy\n",
    "\n",
    "X = np.random.rand(5,5) #create the 5x5 matrix\n",
    "\n",
    "mean = X.mean() #calculate the mean\n",
    "std = X.std() #calculate the standard deviation\n",
    "\n",
    "X_normalized = (X - mean) / std #normalization formula\n",
    "\n",
    "np.save('X_normalized.npy', X_normalized) #save the array\n",
    "\n",
    "print(\"Original array (X):\\n\", X) #print the values\n",
    "print(\"\\nNormalized array (X_normalized): \\n\", X_normalized)"
   ]
  },
  {
   "cell_type": "markdown",
   "id": "9f281e10-34a5-4324-aee5-b9fc6a471d06",
   "metadata": {},
   "source": [
    "# Division by 3 Problem"
   ]
  },
  {
   "cell_type": "code",
   "execution_count": 24,
   "id": "560975d9-ea01-4057-b2d9-06585358e81e",
   "metadata": {},
   "outputs": [
    {
     "name": "stdout",
     "output_type": "stream",
     "text": [
      "Original matrix: \n",
      " [[  1   2   3   4   5   6   7   8   9  10]\n",
      " [ 11  12  13  14  15  16  17  18  19  20]\n",
      " [ 21  22  23  24  25  26  27  28  29  30]\n",
      " [ 31  32  33  34  35  36  37  38  39  40]\n",
      " [ 41  42  43  44  45  46  47  48  49  50]\n",
      " [ 51  52  53  54  55  56  57  58  59  60]\n",
      " [ 61  62  63  64  65  66  67  68  69  70]\n",
      " [ 71  72  73  74  75  76  77  78  79  80]\n",
      " [ 81  82  83  84  85  86  87  88  89  90]\n",
      " [ 91  92  93  94  95  96  97  98  99 100]]\n",
      "\n",
      "Numbers divisible by 3 from 1-100 are: \n",
      " [ 3  6  9 12 15 18 21 24 27 30 33 36 39 42 45 48 51 54 57 60 63 66 69 72\n",
      " 75 78 81 84 87 90 93 96 99]\n"
     ]
    }
   ],
   "source": [
    "import numpy as np #import numpy\n",
    "\n",
    "X = np.arange(1, 101).reshape(10, 10) #use arrange to create 1-100 values and use reshape to make into 2D 10x10 matrix\n",
    "\n",
    "div_by_3 = X[X % 3 == 0] #selects the values that are divisible by 3 using modulo operation\n",
    "\n",
    "np.save('div_by_3.npy', div_by_3) #save the array\n",
    "\n",
    "print (\"Original matrix: \\n\", X) #print the values\n",
    "print (\"\\nNumbers divisible by 3 from 1-100 are: \\n\", div_by_3)"
   ]
  },
  {
   "cell_type": "code",
   "execution_count": null,
   "id": "35f10a44-64b9-4f86-b8df-19f0feab8714",
   "metadata": {},
   "outputs": [],
   "source": []
  }
 ],
 "metadata": {
  "kernelspec": {
   "display_name": "Python 3 (ipykernel)",
   "language": "python",
   "name": "python3"
  },
  "language_info": {
   "codemirror_mode": {
    "name": "ipython",
    "version": 3
   },
   "file_extension": ".py",
   "mimetype": "text/x-python",
   "name": "python",
   "nbconvert_exporter": "python",
   "pygments_lexer": "ipython3",
   "version": "3.12.4"
  }
 },
 "nbformat": 4,
 "nbformat_minor": 5
}
